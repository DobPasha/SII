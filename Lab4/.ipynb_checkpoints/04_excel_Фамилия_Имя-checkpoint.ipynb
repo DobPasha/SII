{
 "cells": [
  {
   "cell_type": "markdown",
   "metadata": {},
   "source": [
    "# Работа с Excel"
   ]
  },
  {
   "cell_type": "markdown",
   "metadata": {},
   "source": [
    "Материалы:\n",
    "* Макрушин С.В. Лекция 7: Работа с Excel\n",
    "* https://docs.xlwings.org/en/stable/quickstart.html\n",
    "* https://nbviewer.jupyter.org/github/pybokeh/jupyter_notebooks/blob/master/xlwings/Excel_Formatting.ipynb#search_text\n"
   ]
  },
  {
   "cell_type": "markdown",
   "metadata": {},
   "source": [
    "## Задачи для совместного разбора"
   ]
  },
  {
   "cell_type": "markdown",
   "metadata": {},
   "source": [
    "1. На листе \"Рецептура\" файла `себестоимостьА_в1.xlsx` для области \"Пшеничный хлеб\" рассчитать себестоимость всех видов продукции."
   ]
  },
  {
   "cell_type": "markdown",
   "metadata": {},
   "source": [
    "2. Результаты расчетов 1.1 сохранить в отдельном столбце области \"Пшеничный хлеб\""
   ]
  },
  {
   "cell_type": "markdown",
   "metadata": {},
   "source": [
    "3. Приблизить форматирование столбца, добавленного в задаче 2 к оформлению всей области."
   ]
  },
  {
   "cell_type": "markdown",
   "metadata": {},
   "source": [
    "4. Выполнить 3 с помощью \"протягиваемых\" формул."
   ]
  },
  {
   "cell_type": "markdown",
   "metadata": {},
   "source": [
    "## Лабораторная работа 7.1"
   ]
  },
  {
   "cell_type": "markdown",
   "metadata": {},
   "source": [
    "1. Загрузите данные из файлов `reviews_sample.csv` (__ЛР2__) и `recipes_sample.csv` (__ЛР5__) в виде `pd.DataFrame`. Обратите внимание на корректное считывание столбца(ов) с индексами. Оставьте в таблице с рецептами следующие столбцы: `id`, `name`, `minutes`, `submitted`, `description`, `n_ingredients`"
   ]
  },
  {
   "cell_type": "code",
   "execution_count": 73,
   "metadata": {
    "tags": []
   },
   "outputs": [],
   "source": [
    "import pandas as pd\n",
    "\n",
    "recipes = pd.read_csv('data/recipes_sample.csv', sep=',',\n",
    "                     usecols=['id', 'name', 'minutes', 'submitted', 'description', 'n_ingredients'])\n",
    "reviews = pd.read_csv('data/reviews_sample.csv', sep=',', index_col=0)"
   ]
  },
  {
   "cell_type": "markdown",
   "metadata": {},
   "source": [
    "2. Случайным образом выберите 5% строк из каждой таблицы и сохраните две таблицы на разные листы в один файл `recipes.xlsx`. Дайте листам названия \"Рецепты\" и \"Отзывы\", соответствующие содержанию таблиц. "
   ]
  },
  {
   "cell_type": "code",
   "execution_count": 74,
   "metadata": {
    "tags": []
   },
   "outputs": [],
   "source": [
    "import xlwings as xw\n",
    "import random\n",
    "\n",
    "# Случайный выбор 5% строк\n",
    "recipes_sample = recipes.sample(frac=0.05, random_state=42)\n",
    "reviews_sample = reviews.sample(frac=0.05, random_state=42)\n",
    "\n",
    "# Создание файла Excel и запись таблиц в разные листы\n",
    "with xw.Book() as wb:\n",
    "    ws_recipes = wb.sheets.add('Рецепты')\n",
    "    ws_reviews = wb.sheets.add('Отзывы')\n",
    "\n",
    "    # Запись таблиц в листы\n",
    "    ws_recipes.range('A1').value = recipes_sample\n",
    "    ws_reviews.range('A1').value = reviews_sample\n",
    "    wb.save('data/recipes.xlsx')"
   ]
  },
  {
   "cell_type": "markdown",
   "metadata": {},
   "source": [
    "3. Используя `xlwings`, добавьте на лист `Рецепты` столбец `seconds_assign`, показывающий время выполнения рецепта в секундах. Выполните задание при помощи присваивания массива значений диапазону ячеек."
   ]
  },
  {
   "cell_type": "code",
   "execution_count": 75,
   "metadata": {
    "tags": []
   },
   "outputs": [],
   "source": [
    "import pandas as pd\n",
    "import xlwings as xw\n",
    "\n",
    "recipes = pd.read_csv('data/recipes_sample.csv', sep=',',\n",
    "                     usecols=['id', 'name', 'minutes', 'submitted', 'description', 'n_ingredients'])\n",
    "reviews = pd.read_csv('data/reviews_sample.csv', sep=',', index_col=0)\n",
    "\n",
    "# Случайный выбор 5% строк\n",
    "recipes_sample = recipes.sample(frac=0.05, random_state=42)\n",
    "reviews_sample = reviews.sample(frac=0.05, random_state=42)\n",
    "\n",
    "# Добавление столбца 'seconds_assign'\n",
    "recipes_sample['seconds_assign'] = recipes_sample['minutes'] * 60\n",
    "\n",
    "# Создание файла Excel и запись таблиц в разные листы\n",
    "with xw.Book() as wb:\n",
    "    ws_recipes = wb.sheets.add('Рецепты')\n",
    "    ws_reviews = wb.sheets.add('Отзывы')\n",
    "\n",
    "    # Запись таблиц в листы\n",
    "    ws_recipes.range('A1').value = recipes_sample\n",
    "    ws_reviews.range('A1').value = reviews_sample\n",
    "    \n",
    "    # Присвоение массива значений столбца 'seconds_assign' диапазону ячеек на листе 'Рецепты'\n",
    "    ws_recipes.range('G1').options(transpose=True).value = recipes_sample['seconds_assign'].values\n",
    "    \n",
    "    wb.save('data/recipes.xlsx')"
   ]
  },
  {
   "cell_type": "markdown",
   "metadata": {},
   "source": [
    "4. Используя `xlwings`, добавьте на лист `Рецепты` столбец `seconds_formula`, показывающий время выполнения рецепта в секундах. Выполните задание при помощи формул Excel."
   ]
  },
  {
   "cell_type": "code",
   "execution_count": 76,
   "metadata": {
    "tags": []
   },
   "outputs": [],
   "source": [
    "import pandas as pd\n",
    "import xlwings as xw\n",
    "from xlwings.constants import AutoFillType\n",
    "\n",
    "recipes = pd.read_csv('data/recipes_sample.csv', sep=',',\n",
    "                     usecols=['id', 'name', 'minutes', 'submitted', 'description', 'n_ingredients'])\n",
    "reviews = pd.read_csv('data/reviews_sample.csv', sep=',', index_col=0)\n",
    "\n",
    "# Случайный выбор 5% строк\n",
    "recipes_sample = recipes.sample(frac=0.05, random_state=42)\n",
    "reviews_sample = reviews.sample(frac=0.05, random_state=42)\n",
    "\n",
    "# Добавление столбца 'seconds_assign'\n",
    "recipes_sample['seconds_assign'] = \"\"\n",
    "\n",
    "# Создание файла Excel и запись таблиц в разные листы\n",
    "with xw.Book() as wb:\n",
    "    ws_recipes = wb.sheets.add('Рецепты')\n",
    "    ws_reviews = wb.sheets.add('Отзывы')\n",
    "\n",
    "    # Запись таблиц в листы\n",
    "    ws_recipes.range('A1').value = recipes_sample\n",
    "    ws_reviews.range('A1').value = reviews_sample\n",
    "    \n",
    "    # Добавление формулы столбца 'seconds_formula' на лист 'Рецепты'\n",
    "    last_row = recipes_sample.shape[0]\n",
    "    ws_recipes.range('H2:H' + str(last_row + 1)).formula = '=D2:D' + str(last_row + 1) + ' * 60'\n",
    "\n",
    "    wb.save('data/recipes.xlsx')"
   ]
  },
  {
   "cell_type": "markdown",
   "metadata": {},
   "source": [
    "5. Сделайте названия всех добавленных столбцов полужирными и выровняйте по центру ячейки."
   ]
  },
  {
   "cell_type": "code",
   "execution_count": 77,
   "metadata": {
    "tags": []
   },
   "outputs": [],
   "source": [
    "import pandas as pd\n",
    "import xlwings as xw\n",
    "from xlwings.constants import AutoFillType\n",
    "\n",
    "recipes = pd.read_csv('data/recipes_sample.csv', sep=',',\n",
    "                     usecols=['id', 'name', 'minutes', 'submitted', 'description', 'n_ingredients'])\n",
    "reviews = pd.read_csv('data/reviews_sample.csv', sep=',', index_col=0)\n",
    "\n",
    "# Случайный выбор 5% строк\n",
    "recipes_sample = recipes.sample(frac=0.05, random_state=42)\n",
    "reviews_sample = reviews.sample(frac=0.05, random_state=42)\n",
    "\n",
    "# Добавление столбца 'seconds_assign'\n",
    "recipes_sample['seconds_assign'] = \"\"\n",
    "\n",
    "# Создание файла Excel и запись таблиц в разные листы\n",
    "with xw.Book() as wb:\n",
    "    ws_recipes = wb.sheets.add('Рецепты')\n",
    "    ws_reviews = wb.sheets.add('Отзывы')\n",
    "\n",
    "    # Запись таблиц в листы\n",
    "    ws_recipes.range('A1').value = recipes_sample\n",
    "    ws_reviews.range('A1').value = reviews_sample\n",
    "    \n",
    "    # Добавление формулы столбца 'seconds_formula' на лист 'Рецепты'\n",
    "    last_row = recipes_sample.shape[0]\n",
    "    ws_recipes.range('H2:H' + str(last_row + 1)).formula = '=D2:D' + str(last_row + 1) + ' * 60'\n",
    "\n",
    "    # Изменение стиля заголовков\n",
    "    headers_range = ws_recipes.range('A1:H1')\n",
    "    headers_range.api.Font.Bold = True\n",
    "    headers_range.api.HorizontalAlignment = -4108  # -4108 соответствует центрированию в Excel\n",
    "\n",
    "    wb.save('data/recipes.xlsx')"
   ]
  },
  {
   "cell_type": "markdown",
   "metadata": {},
   "source": [
    "6. Раскрасьте ячейки столбца `minutes` в соответствии со следующим правилом: если рецепт выполняется быстрее 5 минут, то цвет - зеленый; от 5 до 10 минут - жёлтый; и больше 10 - красный."
   ]
  },
  {
   "cell_type": "code",
   "execution_count": 78,
   "metadata": {
    "tags": []
   },
   "outputs": [],
   "source": [
    "import pandas as pd\n",
    "import xlwings as xw\n",
    "from xlwings.constants import AutoFillType\n",
    "\n",
    "recipes = pd.read_csv('data/recipes_sample.csv', sep=',',\n",
    "                      usecols=['id', 'name', 'minutes', 'submitted', 'description', 'n_ingredients'])\n",
    "reviews = pd.read_csv('data/reviews_sample.csv', sep=',', index_col=0)\n",
    "\n",
    "# Случайный выбор 5% строк\n",
    "recipes_sample = recipes.sample(frac=0.05, random_state=42)\n",
    "reviews_sample = reviews.sample(frac=0.05, random_state=42)\n",
    "\n",
    "# Добавление столбца 'seconds_assign'\n",
    "recipes_sample['seconds_assign'] = \"\"\n",
    "\n",
    "# Создание файла Excel и запись таблиц в разные листы\n",
    "with xw.Book() as wb:\n",
    "    ws_recipes = wb.sheets.add('Рецепты')\n",
    "    ws_reviews = wb.sheets.add('Отзывы')\n",
    "\n",
    "    # Запись таблиц в листы\n",
    "    ws_recipes.range('A1').value = recipes_sample\n",
    "    ws_reviews.range('A1').value = reviews_sample\n",
    "\n",
    "    # Добавление формулы столбца 'seconds_formula' на лист 'Рецепты'\n",
    "    last_row = recipes_sample.shape[0]\n",
    "    ws_recipes.range('H2:H' + str(last_row + 1)).formula = '=D2:D' + str(last_row + 1) + ' * 60'\n",
    "\n",
    "    # Изменение стиля заголовков\n",
    "    headers_range = ws_recipes.range('A1:H1')\n",
    "    headers_range.api.Font.Bold = True\n",
    "    headers_range.api.HorizontalAlignment = -4108  # -4108 соответствует центрированию в Excel\n",
    "\n",
    "    # Раскраска ячеек в столбце 'minutes'\n",
    "    minutes_range = ws_recipes.range('D2:D' + str(last_row + 1))\n",
    "    for cell in minutes_range:\n",
    "        minutes = cell.value\n",
    "        if minutes < 5:\n",
    "            cell.api.Interior.ColorIndex = 4  # Зеленый\n",
    "        elif 5 <= minutes <= 10 :\n",
    "            cell.api.Interior.ColorIndex = 6  # Желтый\n",
    "        else:\n",
    "            cell.api.Interior.ColorIndex = 3  # Красный\n",
    "\n",
    "    wb.save('data/recipes.xlsx')"
   ]
  },
  {
   "cell_type": "markdown",
   "metadata": {},
   "source": [
    "7. Добавьте на лист `Рецепты`  столбец `n_reviews`, содержащий кол-во отзывов для этого рецепта. Выполните задание при помощи формул Excel."
   ]
  },
  {
   "cell_type": "code",
   "execution_count": null,
   "metadata": {
    "tags": []
   },
   "outputs": [],
   "source": []
  },
  {
   "cell_type": "markdown",
   "metadata": {},
   "source": [
    "## Лабораторная работа 7.2"
   ]
  },
  {
   "cell_type": "markdown",
   "metadata": {},
   "source": [
    "8. Напишите функцию `validate()`, которая проверяет соответствие всех строк из листа `Отзывы` следующим правилам:\n",
    "    * Рейтинг - это число от 0 до 5 включительно\n",
    "    * Соответствующий рецепт имеется на листе `Рецепты`\n",
    "    \n",
    "В случае несоответствия этим правилам, выделите строку красным цветом"
   ]
  },
  {
   "cell_type": "code",
   "execution_count": 91,
   "metadata": {
    "tags": []
   },
   "outputs": [],
   "source": [
    "import xlwings as xw\n",
    "\n",
    "def validate():\n",
    "    # Открываем файл Excel\n",
    "    wb = xw.Book('data/recipes.xlsx')\n",
    "\n",
    "    # Получаем листы, на которых находятся нужные данные\n",
    "    ws1 = wb.sheets['Рецепты']\n",
    "    ws2 = wb.sheets['Отзывы']\n",
    "\n",
    "    # Получаем столбцы с id рецептов и рейтингом\n",
    "    recipes_id_ws1 = ws1.range('C2:C6000').value\n",
    "    recipes_id_ws2 = ws2.range('C2:C6000').value\n",
    "    rating = ws2.range('E2:E6000')\n",
    "\n",
    "    # Определяем цвет, в который нужно окрасить строки\n",
    "    color = (255, 0, 0)\n",
    "\n",
    "    # Проходимся по каждой строке листа \"Отзывы\"\n",
    "    for i, review_id in enumerate(recipes_id_ws2):\n",
    "        # Если id рецепта не найден в листе \"Рецепты\", то окрашиваем строку в красный цвет\n",
    "        if (review_id not in recipes_id_ws1) and (0 <= rating[i-1].value <= 5) and (rating[i-1] is not None):\n",
    "            row = ws2.range(f\"A{i+2}:F{i+2}\") # получаем нужную строку\n",
    "            row.color = color\n",
    "\n",
    "    # Закрываем файл Excel\n",
    "    wb.save()\n",
    "    wb.close()\n",
    "    \n",
    "validate()"
   ]
  },
  {
   "cell_type": "code",
   "execution_count": null,
   "metadata": {
    "tags": []
   },
   "outputs": [],
   "source": [
    "\n",
    "#Не работает :(\n",
    "\n",
    "import xlwings as xw\n",
    "\n",
    "# Открываем файл Excel\n",
    "wb = xw.Book('data/recipes.xlsx')\n",
    "\n",
    "# Получаем листы, на которых находятся нужные данные\n",
    "ws1 = wb.sheets['Рецепты']\n",
    "ws2 = wb.sheets['Отзывы']\n",
    "\n",
    "# Получаем столбцы с id рецептов и рейтингом\n",
    "recipes_id_ws1 = ws1.range('C2:C{}'.format(ws1.cells.last_cell.row)).value\n",
    "recipes_id_ws2 = ws2.range('C2:C{}'.format(ws2.cells.last_cell.row)).value\n",
    "rating = ws2.range('E2:E{}'.format(ws2.cells.last_cell.row)).value\n",
    "\n",
    "# Определяем цвет, в который нужно окрасить строки\n",
    "color = (255, 0, 0)\n",
    "\n",
    "# Проходимся по каждой строке листа \"Отзывы\"\n",
    "for i, review_id in enumerate(recipes_id_ws2):\n",
    "    # Если id рецепта не найден в листе \"Рецепты\", то окрашиваем строку в красный цвет\n",
    "    if (review_id not in recipes_id_ws1) and (rating[i-1] is not None) and (0 <= rating[i-1] <= 5):\n",
    "        row = ws2.range(f\"A{i+2}:F{i+2}\") # получаем нужную строку\n",
    "        row.color = color\n",
    "\n",
    "# Закрываем файл Excel\n",
    "wb.save()\n",
    "wb.close()"
   ]
  },
  {
   "cell_type": "markdown",
   "metadata": {},
   "source": [
    "9. В файле `recipes_model.csv` находится модель данных предметной области \"рецепты\". При помощи пакета `csv` считайте эти данные. При помощи пакета `xlwings` запишите данные на лист `Модель` книги `recipes_model.xlsx`, начиная с ячейки `A2`, не используя циклы. Сделайте скриншот текущего состояния листа и прикрепите в ячейку ноутбука. "
   ]
  },
  {
   "cell_type": "code",
   "execution_count": 102,
   "metadata": {
    "tags": []
   },
   "outputs": [],
   "source": [
    "import csv\n",
    "import xlwings as xw\n",
    "\n",
    "# Создаем новый файл Excel\n",
    "wb = xw.Book()\n",
    "# Добавляем новый лист \"Модель\"\n",
    "ws = wb.sheets.add('Модель')\n",
    "\n",
    "# Считываем данные из CSV-файла\n",
    "with open('data/recipes_model.csv', 'r', encoding='utf-8') as file:\n",
    "    reader = csv.reader(file, delimiter=';')\n",
    "    data = list(reader)\n",
    "\n",
    "# Записываем данные на лист \"Модель\"\n",
    "ws.range('A2').value = data\n",
    "\n",
    "# Сохраняем файл Excel и закрываем его\n",
    "wb.save('data/recipes_model.xlsx')\n",
    "wb.close()"
   ]
  },
  {
   "cell_type": "markdown",
   "metadata": {},
   "source": [
    "10. При помощи пакета `xlwings` добавьте в столбец J формулу для описания столбца на языке SQL. Формула должна реализовывать следующую логику:\n",
    "\n",
    "    1\\. в начале строки идут значения из столбцов В и C (значение столбца С приведено к верхнему регистру), разделенные пробелом\n",
    "    \n",
    "    2\\. далее идут слова на основе столбца \"Ключ\"\n",
    "        2.1 если в столбце \"Ключ\" указано значение \"PK\", то дальше через пробел идет ключевое слово \"PRIMARY KEY\"\n",
    "        2.2 если в столбце \"Ключ\" указано значение \"FK\", то дальше через пробел идет ключевое слово \"REFERENCES\", затем значения столбцов H и I в формате \"название_таблицы(название_столбца)\"\n",
    "        \n",
    "    3\\. если в столбце \"Обязательно к заполнению\" указано значение \"Y\" и в столбце \"Ключ\" указано не \"PK\", то дальше через пробел идет ключевое слово \"NOT NULL\".\n",
    "\n",
    "Заполните этой формулой необходимое количество строк, используя \"протягивание\". Количество строк для протягивания определите на основе данных.\n",
    "\n",
    "Сделайте скриншот текущего состояния листа и прикрепите в ячейку ноутбука."
   ]
  },
  {
   "cell_type": "markdown",
   "metadata": {},
   "source": [
    "11. При помощи пакета `xlwings` измените стилизацию листа `Модель`.\n",
    "* для заголовков добавьте заливку цвета `00ccff`\n",
    "* примените автоподбор ширины столбца;\n",
    "* сделайте шрифт заголовков полужирным;\n",
    "* добавьте таблице автофильтр.\n",
    "\n",
    "Сделайте скриншот текущего состояния листа и прикрепите в ячейку ноутбука."
   ]
  },
  {
   "cell_type": "markdown",
   "metadata": {},
   "source": [
    "12. Посчитайте количество атрибутов для каждой из сущностей. Создайте лист `Статистика` и запишите в него результат группировки, начиная с ячейки \"А1\". Визуализируйте полученный результат при помощи столбчатой диаграммы. Сохраните полученную визуализацию на лист `Статистика`, начиная с ячейки \"E2\".  Сделайте скриншот листа `Статистика` и прикрепите в ячейку ноутбука.\n",
    "\n",
    "* Вы можете воспользоваться методами для визуализации, которые поставляются вместе с объектами `pandas` (см. https://pandas.pydata.org/docs/reference/api/pandas.DataFrame.plot) "
   ]
  }
 ],
 "metadata": {
  "kernelspec": {
   "display_name": "Python 3 (ipykernel)",
   "language": "python",
   "name": "python3"
  },
  "language_info": {
   "codemirror_mode": {
    "name": "ipython",
    "version": 3
   },
   "file_extension": ".py",
   "mimetype": "text/x-python",
   "name": "python",
   "nbconvert_exporter": "python",
   "pygments_lexer": "ipython3",
   "version": "3.9.13"
  }
 },
 "nbformat": 4,
 "nbformat_minor": 4
}

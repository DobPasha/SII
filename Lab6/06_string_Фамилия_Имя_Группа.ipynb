{
 "cells": [
  {
   "cell_type": "markdown",
   "metadata": {},
   "source": [
    "# Работа со строковыми значениями"
   ]
  },
  {
   "cell_type": "markdown",
   "metadata": {},
   "source": [
    "__Автор задач: Блохин Н.В. (NVBlokhin@fa.ru)__\n",
    "\n",
    "Материалы:\n",
    "* Макрушин С.В. Лекция \"Работа со строковыми значениям\"\n",
    "* https://pyformat.info/\n",
    "* https://docs.python.org/3/library/re.html\n",
    "    * https://docs.python.org/3/library/re.html#flags\n",
    "    * https://docs.python.org/3/library/re.html#functions\n",
    "* https://pythonru.com/primery/primery-primeneniya-regulyarnyh-vyrazheniy-v-python\n",
    "* https://kanoki.org/2019/11/12/how-to-use-regex-in-pandas/\n",
    "* https://realpython.com/nltk-nlp-python/"
   ]
  },
  {
   "cell_type": "markdown",
   "metadata": {},
   "source": [
    "## Задачи для совместного разбора"
   ]
  },
  {
   "cell_type": "markdown",
   "metadata": {},
   "source": [
    "1. Вывести на экран данные из словаря `obj` построчно в виде `k = v`, задав формат таким образом, чтобы знак равенства оказался на одной и той же позиции во всех строках. Строковые литералы обернуть в кавычки."
   ]
  },
  {
   "cell_type": "code",
   "execution_count": null,
   "metadata": {},
   "outputs": [],
   "source": []
  },
  {
   "cell_type": "markdown",
   "metadata": {},
   "source": [
    "2. Написать регулярное выражение,которое позволит найти номера групп студентов."
   ]
  },
  {
   "cell_type": "code",
   "execution_count": null,
   "metadata": {},
   "outputs": [],
   "source": []
  },
  {
   "cell_type": "markdown",
   "metadata": {},
   "source": [
    "3. Разбейте текст формулировки задачи 2 на слова."
   ]
  },
  {
   "cell_type": "markdown",
   "metadata": {},
   "source": [
    "## Лабораторная работа 6"
   ]
  },
  {
   "cell_type": "markdown",
   "metadata": {},
   "source": [
    "### Форматирование строк"
   ]
  },
  {
   "cell_type": "markdown",
   "metadata": {},
   "source": [
    "1\\. Загрузите данные из файла `recipes_sample.csv` (__ЛР2__) в виде `pd.DataFrame` `recipes` При помощи форматирования строк выведите информацию об id рецепта и времени выполнения 5 случайных рецептов в виде таблицы следующего вида:\n",
    "\n",
    "    \n",
    "    |      id      |  minutes  |\n",
    "    |--------------------------|\n",
    "    |    61178     |    65     |\n",
    "    |    202352    |    80     |\n",
    "    |    364322    |    150    |\n",
    "    |    26177     |    20     |\n",
    "    |    224785    |    35     |\n",
    "    \n",
    "Обратите внимание, что ширина столбцов заранее неизвестна и должна рассчитываться динамически, в зависимости от тех данных, которые были выбраны. "
   ]
  },
  {
   "cell_type": "code",
   "execution_count": 1,
   "metadata": {
    "tags": []
   },
   "outputs": [
    {
     "name": "stdout",
     "output_type": "stream",
     "text": [
      "|    id     |minutes|\n",
      "|-----------|-------|\n",
      "|  133619   |  35   |\n",
      "|  209678   |  15   |\n",
      "|  141072   |  80   |\n",
      "|   99920   |  18   |\n",
      "|  205831   |  65   |\n",
      "|  129906   |  27   |\n",
      "|  210901   |  65   |\n",
      "|  140172   |  30   |\n",
      "|  122254   |  20   |\n",
      "|  282124   |  50   |\n"
     ]
    }
   ],
   "source": [
    "import pandas as pd\n",
    "\n",
    "recipes = pd.read_csv('data/recipes_sample.csv', sep=',', index_col=0)\n",
    "recipes_sample = recipes.sample(n=10) #sample(), позволяет извелечь n-количество рандомных записей.\n",
    "\n",
    "# Форматирование границ таблицы\n",
    "print('|{r1:^11}|{r2:^7}|'.format(r1='id', r2='minutes'))\n",
    "print('|{:-^11}|{:-^7}|'.format('-', '-'))\n",
    "\n",
    "for index, row in recipes_sample.iterrows():\n",
    "    print('|{r1:^11}|{r2:^7}|'.format(r1=row['id'], r2=row['minutes']))"
   ]
  },
  {
   "cell_type": "markdown",
   "metadata": {},
   "source": [
    "2\\. Напишите функцию `show_info`, которая по данным о рецепте создает строку (в смысле объекта python) с описанием следующего вида:\n",
    "\n",
    "```\n",
    "\"Название Из Нескольких Слов\"\n",
    "\n",
    "1. Шаг 1\n",
    "2. Шаг 2\n",
    "----------\n",
    "Автор: contributor_id\n",
    "Среднее время приготовления: minutes минут\n",
    "```\n",
    "\n",
    "    \n",
    "Данные для создания строки получите из файлов `recipes_sample.csv` (__ЛР2__) и `steps_sample.xml` (__ЛР3__). \n",
    "Вызовите данную функцию для рецепта с id `170895` и выведите (через `print`) полученную строку на экран."
   ]
  },
  {
   "cell_type": "code",
   "execution_count": 2,
   "metadata": {
    "tags": []
   },
   "outputs": [],
   "source": [
    "import xml.etree.ElementTree as ET"
   ]
  },
  {
   "cell_type": "code",
   "execution_count": 3,
   "metadata": {
    "tags": []
   },
   "outputs": [
    {
     "name": "stdout",
     "output_type": "stream",
     "text": [
      "fantastic banana fruitcake\n",
      "----------\n",
      "1. set oven to 300 degrees prepare two loaf pans , or 8 mini loaf pans\n",
      "2. in a large bowl combine the fruit , dates and walnuts , then dredge them with 1 / 4 cup flour\n",
      "3. sift the remaining flour together with the baking powder , baking soda , salt , cinnamon , nutmeg and cloves\n",
      "4. set aside\n",
      "5. in another bowl , cream butter , add sugar , and beat until the mixture is light and fluffy\n",
      "6. beat in the eggs one at a time\n",
      "7. beat in the orange rind , orange juice , orange extract and drained pineapple\n",
      "8. mash the bananas with a fork\n",
      "9. alternately , stir in the banana puree with the flour mixture into the creamed mixture\n",
      "10. stir in the floured fruit and nuts\n",
      "11. turn into prepared pans\n",
      "12. bake for about 2 hours and 15 minutes , or until loosley with foil if the cakes are browning too much on top\n",
      "13. cool in pans for 20 minutes , then turn onto racks\n",
      "Автор: 89831\n",
      "Среднее время приготовления: 160 минут\n"
     ]
    }
   ],
   "source": [
    "def show_info(recipe_id): \n",
    "    \n",
    "    # Загрузка данных из файла recipes_sample.csv\n",
    "    recipes = pd.read_csv('data/recipes_sample.csv', sep=',')\n",
    "    \n",
    "    # Загрузка данных из файла steps_sample.xml\n",
    "    tree = ET.parse('data/steps_sample.xml')\n",
    "    root = tree.getroot()\n",
    "    \n",
    "    # Установка столбца 'id' в качестве индекса\n",
    "    recipes = recipes.set_index('id')\n",
    "    \n",
    "    # Фильтрация данных для заданного recipe_id\n",
    "    recipe = recipes.loc[recipe_id]\n",
    "    \n",
    "    # Получение названия рецепта\n",
    "    name = recipe['name']\n",
    "    \n",
    "    recipe_elem = root.find(f\".//recipe[id='{recipe_id}']\")\n",
    "    steps_info = []\n",
    "\n",
    "    if recipe_elem is not None:\n",
    "        # Поиск всех тегов <step> внутри найденного <recipe>\n",
    "        steps = recipe_elem.findall('.//step')  \n",
    "        for i, step in enumerate(steps, 1):\n",
    "            steps_info.append(f'{i}. {step.text.strip()}') \n",
    "    else:\n",
    "        print(f\"Рецепт с id {recipe_id} не найден.\")\n",
    "    \n",
    "    \n",
    "    # Строка с описанием рецепта\n",
    "    info = f\"{name}\"\n",
    "    info += '\\n----------\\n'\n",
    "    info += '\\n'.join([f\"{i+1}. {step.text.strip()}\" for i, step in enumerate(steps)])\n",
    "    info += f\"\\nАвтор: {recipe['contributor_id']}\\n\"\n",
    "    info += f\"Среднее время приготовления: {recipe['minutes']} минут\"\n",
    "    \n",
    "    return info\n",
    "\n",
    "recipe_info = show_info(78715)\n",
    "print(recipe_info)"
   ]
  },
  {
   "cell_type": "code",
   "execution_count": 4,
   "metadata": {
    "tags": []
   },
   "outputs": [
    {
     "name": "stdout",
     "output_type": "stream",
     "text": [
      "name                          george s at the cove  black bean soup\n",
      "minutes                                                          90\n",
      "contributor_id                                                35193\n",
      "submitted                                                2002-10-25\n",
      "n_steps                                                         NaN\n",
      "description       an original recipe created by chef scott meska...\n",
      "n_ingredients                                                  18.0\n",
      "Name: 44123, dtype: object\n"
     ]
    }
   ],
   "source": [
    "# Загрузка данных из файла recipes_sample.csv\n",
    "recipes = pd.read_csv('data/recipes_sample.csv', sep=',')\n",
    "\n",
    "# Установка столбца 'id' в качестве индекса\n",
    "recipes = recipes.set_index('id')\n",
    "\n",
    "recipe = recipes.loc[44123]\n",
    "\n",
    "# Получение названия рецепта\n",
    "name = recipe['name']\n",
    "\n",
    "print(recipe)"
   ]
  },
  {
   "cell_type": "markdown",
   "metadata": {},
   "source": [
    "## Работа с регулярными выражениями"
   ]
  },
  {
   "cell_type": "markdown",
   "metadata": {},
   "source": [
    "3\\. Напишите регулярное выражение, которое ищет следующий паттерн в строке: число (1 цифра или более), затем пробел, затем слова: hour или hours или minute или minutes. Произведите поиск по данному регулярному выражению в каждом шаге рецепта с id 25082. Выведите на экран все непустые результаты, найденные по данному шаблону."
   ]
  },
  {
   "cell_type": "code",
   "execution_count": 5,
   "metadata": {
    "tags": []
   },
   "outputs": [
    {
     "name": "stdout",
     "output_type": "stream",
     "text": [
      "20 minute\n",
      "10 minute\n",
      "2 hour\n",
      "10 minute\n",
      "20 minute\n",
      "30 minute\n"
     ]
    }
   ],
   "source": [
    "import re\n",
    "\n",
    "def search_pattern(recipe_id):\n",
    "    # Загрузка данных из файла steps_sample.xml\n",
    "    tree = ET.parse('data/steps_sample.xml')\n",
    "    root = tree.getroot()\n",
    "    \n",
    "    # Поиск рецепта по заданному id\n",
    "    recipe = root.find(f\".//recipe[id='{recipe_id}']\")\n",
    "    if recipe is None:\n",
    "        print(f\"Рецепт с id {recipe_id} не найден.\")\n",
    "        return\n",
    "    \n",
    "    # Поиск шагов рецепта\n",
    "    steps = recipe.findall('.//step')\n",
    "    if not steps:\n",
    "        print(\"Шаги рецепта не найдены.\")\n",
    "        return\n",
    "    \n",
    "    # Поиск паттерна в каждом шаге и вывод результатов\n",
    "    pattern = r'\\d+\\s(?:hour|hours|minute|minutes)'\n",
    "    for step in steps:\n",
    "        text = step.text.strip()\n",
    "        matches = re.findall(pattern, text)\n",
    "        if matches:\n",
    "            for match in matches:\n",
    "                print(match)\n",
    "\n",
    "# Вызов функции для рецепта с id 25082\n",
    "search_pattern(25082)"
   ]
  },
  {
   "cell_type": "markdown",
   "metadata": {},
   "source": [
    "4\\. Напишите регулярное выражение, которое ищет шаблон вида \"this..., but\" _в начале строки_ . Между словом \"this\" и частью \", but\" может находиться произвольное число букв, цифр, знаков подчеркивания и пробелов. Никаких других символов вместо многоточия быть не может. Пробел между запятой и словом \"but\" может присутствовать или отсутствовать.\n",
    "\n",
    "Используя строковые методы `pd.Series`, выясните, для каких рецептов данный шаблон содержится в тексте описания. Выведите на экран количество таких рецептов и 3 примера подходящих описаний (текст описания должен быть виден на экране полностью)."
   ]
  },
  {
   "cell_type": "code",
   "execution_count": 6,
   "metadata": {
    "tags": []
   },
   "outputs": [
    {
     "name": "stdout",
     "output_type": "stream",
     "text": [
      "Количество рецептов, подходящих под шаблон: 134\n",
      "this is a great meal eaten the same day ,but even better the next day , if you can wait! add your favourite spices, but try it first as it is and i think that you will enjoy the 'vegetable' taste. good for freezing.\n",
      "---\n",
      "this was adapted from a recipe i found on the net, but i added julienne onion to the peppers.  this is a meal in itself, or you could have a small slice with a meat dish.  for those that like to have brunch, it's a bit different to your traditional quiche recipes.  if you love cheese, you could add 1/2 cup of your favorite to the egg mixture, then pour over peppers.\n",
      "---\n",
      "this is kind of similar to some of the other versions out there, but it is the best and easiest i have found\n",
      "---\n"
     ]
    }
   ],
   "source": [
    "import pandas as pd\n",
    "import numpy as np\n",
    "\n",
    "def find_pattern_in_description(pattern):\n",
    "    # Загрузка данных из файла recipes_sample.csv\n",
    "    recipes = pd.read_csv('data/recipes_sample.csv')\n",
    "    \n",
    "    # Замена пропущенных значений в столбце 'description' на пустую строку\n",
    "    recipes['description'] = recipes['description'].fillna('')\n",
    "    \n",
    "    # Фильтрация рецептов, где шаблон содержится в тексте описания\n",
    "    matching_recipes = recipes[recipes['description'].str.contains(pattern)]\n",
    "    \n",
    "    # Вывод количества рецептов, подходящих под шаблон\n",
    "    print(f\"Количество рецептов, подходящих под шаблон: {len(matching_recipes)}\")\n",
    "    \n",
    "    # Вывод примеров подходящих описаний\n",
    "    sample_descriptions = matching_recipes['description'].head(3)\n",
    "    for description in sample_descriptions:\n",
    "        print(description)\n",
    "        print('---')\n",
    "    \n",
    "\n",
    "# Вызов функции для поиска шаблона \"this..., but\"\n",
    "#pattern = r'^this\\.{3}, but'\n",
    "#pattern = r'this..., but'\n",
    "pattern = r\"^this[\\w\\s]*,\\s?but\"\n",
    "\n",
    "find_pattern_in_description(pattern)"
   ]
  },
  {
   "cell_type": "markdown",
   "metadata": {},
   "source": [
    "5\\. В текстах шагов рецептов обыкновенные дроби имеют вид \"a / b\". Используя регулярные выражения, уберите в тексте шагов рецепта с id 72367 пробелы до и после символа дроби. Выведите на экран шаги этого рецепта после их изменения."
   ]
  },
  {
   "cell_type": "code",
   "execution_count": 7,
   "metadata": {
    "tags": []
   },
   "outputs": [
    {
     "name": "stdout",
     "output_type": "stream",
     "text": [
      "mix butter , flour , 1/3 c\n",
      "sugar and 1-1/4 t\n",
      "vanilla\n",
      "press into greased 9\" springform pan\n",
      "mix cream cheese , 1/4 c\n",
      "sugar , eggs and 1/2 t\n",
      "vanilla beating until fluffy\n",
      "pour over dough\n",
      "combine apples , 1/3 c\n",
      "sugar and cinnamon\n",
      "arrange on top of cream cheese mixture and sprinkle with almonds\n",
      "bake at 350 for 45-55 minutes , or until tester comes out clean\n"
     ]
    }
   ],
   "source": [
    "import re\n",
    "\n",
    "def remove_fraction_spaces(recipe_id):\n",
    "    # Загрузка данных из файла steps_sample.xml\n",
    "    tree = ET.parse('data/steps_sample.xml')\n",
    "    root = tree.getroot()\n",
    "\n",
    "    # Поиск шагов рецепта с заданным recipe_id\n",
    "    recipe = root.find(f\".//recipe[id='{recipe_id}']\")\n",
    "    if recipe is not None:\n",
    "        steps = recipe.findall('.//step')\n",
    "        for step in steps:\n",
    "            text = step.text.strip()  # Удаление начальных и конечных пробелов\n",
    "            # Удаление пробелов до и после символа дроби\n",
    "            text = re.sub(r'\\s*/\\s*', '/', text)\n",
    "            step.text = text\n",
    "            print(text)\n",
    "        tree.write('data/steps_sample.xml')  # Сохранение изменений в файле\n",
    "    else:\n",
    "        print(f\"Рецепт с id {recipe_id} не найден.\")\n",
    "\n",
    "# Вызов функции для рецепта с id 72367\n",
    "remove_fraction_spaces(72367)"
   ]
  },
  {
   "cell_type": "markdown",
   "metadata": {},
   "source": [
    "### Сегментация текста"
   ]
  },
  {
   "cell_type": "markdown",
   "metadata": {},
   "source": [
    "6\\. Разбейте тексты шагов рецептов на слова при помощи пакета `nltk`. Посчитайте и выведите на экран кол-во уникальных слов среди всех рецептов. Словом называется любая последовательность алфавитных символов (для проверки можно воспользоваться `str.isalpha`). При подсчете количества уникальных слов не учитывайте регистр."
   ]
  },
  {
   "cell_type": "code",
   "execution_count": 8,
   "metadata": {
    "tags": []
   },
   "outputs": [
    {
     "name": "stdout",
     "output_type": "stream",
     "text": [
      "Количество уникальных слов: 42\n"
     ]
    }
   ],
   "source": [
    "import nltk\n",
    "from nltk.tokenize import word_tokenize\n",
    "\n",
    "# Загрузка корпуса текстов для работы с токенизацией\n",
    "#nltk.download('punkt')\n",
    "\n",
    "def count_unique_words(recipe_id):\n",
    "    # Загрузка данных из файла steps_sample.xml\n",
    "    tree = ET.parse('data/steps_sample.xml')\n",
    "    root = tree.getroot()\n",
    "\n",
    "    # Поиск шагов рецепта с заданным recipe_id\n",
    "    recipe = root.find(f\".//recipe[id='{recipe_id}']\")\n",
    "    if recipe is not None:\n",
    "        steps = recipe.findall('.//step')\n",
    "        words = set()  # Множество для хранения уникальных слов\n",
    "\n",
    "        for step in steps:\n",
    "            text = step.text.strip()  # Удаление начальных и конечных пробелов\n",
    "            # Токенизация текста на слова\n",
    "            tokens = word_tokenize(text)\n",
    "            for token in tokens:\n",
    "                if token.isalpha():  # Проверка, является ли токен словом\n",
    "                    words.add(token.lower())  # Добавление слова в множество (в нижнем регистре)\n",
    "\n",
    "        num_unique_words = len(words)  # Количество уникальных слов\n",
    "        print(f\"Количество уникальных слов: {num_unique_words}\")\n",
    "    else:\n",
    "        print(f\"Рецепт с id {recipe_id} не найден.\")\n",
    "\n",
    "# Вызов функции для рецепта с id 72367\n",
    "count_unique_words(72367)"
   ]
  },
  {
   "cell_type": "markdown",
   "metadata": {},
   "source": [
    "7\\. Разбейте описания рецептов из `recipes` на предложения при помощи пакета `nltk`. Найдите 5 самых длинных описаний (по количеству _предложений_) рецептов в датасете и выведите строки фрейма, соответствующие этим рецептами, в порядке убывания длины."
   ]
  },
  {
   "cell_type": "code",
   "execution_count": 9,
   "metadata": {
    "tags": []
   },
   "outputs": [
    {
     "name": "stderr",
     "output_type": "stream",
     "text": [
      "[nltk_data] Downloading package punkt to\n",
      "[nltk_data]     C:\\Users\\Pasha\\AppData\\Roaming\\nltk_data...\n",
      "[nltk_data]   Package punkt is already up-to-date!\n"
     ]
    },
    {
     "data": {
      "text/html": [
       "<div>\n",
       "<style scoped>\n",
       "    .dataframe tbody tr th:only-of-type {\n",
       "        vertical-align: middle;\n",
       "    }\n",
       "\n",
       "    .dataframe tbody tr th {\n",
       "        vertical-align: top;\n",
       "    }\n",
       "\n",
       "    .dataframe thead th {\n",
       "        text-align: right;\n",
       "    }\n",
       "</style>\n",
       "<table border=\"1\" class=\"dataframe\">\n",
       "  <thead>\n",
       "    <tr style=\"text-align: right;\">\n",
       "      <th></th>\n",
       "      <th>name</th>\n",
       "      <th>id</th>\n",
       "      <th>minutes</th>\n",
       "      <th>contributor_id</th>\n",
       "      <th>submitted</th>\n",
       "      <th>n_steps</th>\n",
       "      <th>description</th>\n",
       "      <th>n_ingredients</th>\n",
       "      <th>sentences</th>\n",
       "      <th>sentence_count</th>\n",
       "    </tr>\n",
       "  </thead>\n",
       "  <tbody>\n",
       "    <tr>\n",
       "      <th>18408</th>\n",
       "      <td>my favorite buttercream icing for decorating</td>\n",
       "      <td>334113</td>\n",
       "      <td>30</td>\n",
       "      <td>681465</td>\n",
       "      <td>2008-10-30</td>\n",
       "      <td>12.0</td>\n",
       "      <td>this wonderful icing is used for icing cakes a...</td>\n",
       "      <td>NaN</td>\n",
       "      <td>[this wonderful icing is used for icing cakes ...</td>\n",
       "      <td>76</td>\n",
       "    </tr>\n",
       "    <tr>\n",
       "      <th>481</th>\n",
       "      <td>alligator claws  avocado fritters  with chipot...</td>\n",
       "      <td>287008</td>\n",
       "      <td>45</td>\n",
       "      <td>765354</td>\n",
       "      <td>2008-02-19</td>\n",
       "      <td>NaN</td>\n",
       "      <td>a translucent golden-brown crust allows the gr...</td>\n",
       "      <td>9.0</td>\n",
       "      <td>[a translucent golden-brown crust allows the g...</td>\n",
       "      <td>27</td>\n",
       "    </tr>\n",
       "    <tr>\n",
       "      <th>22566</th>\n",
       "      <td>rich barley mushroom soup</td>\n",
       "      <td>328708</td>\n",
       "      <td>60</td>\n",
       "      <td>221776</td>\n",
       "      <td>2008-10-03</td>\n",
       "      <td>NaN</td>\n",
       "      <td>this is one of the best soups i've ever made a...</td>\n",
       "      <td>10.0</td>\n",
       "      <td>[this is one of the best soups i've ever made ...</td>\n",
       "      <td>24</td>\n",
       "    </tr>\n",
       "    <tr>\n",
       "      <th>6779</th>\n",
       "      <td>chocolate tea</td>\n",
       "      <td>205348</td>\n",
       "      <td>6</td>\n",
       "      <td>428824</td>\n",
       "      <td>2007-01-14</td>\n",
       "      <td>NaN</td>\n",
       "      <td>i wrote this because there are an astounding l...</td>\n",
       "      <td>NaN</td>\n",
       "      <td>[i wrote this because there are an astounding ...</td>\n",
       "      <td>23</td>\n",
       "    </tr>\n",
       "    <tr>\n",
       "      <th>16296</th>\n",
       "      <td>little bunny foo foo cake  carrot cake  with c...</td>\n",
       "      <td>316000</td>\n",
       "      <td>68</td>\n",
       "      <td>689540</td>\n",
       "      <td>2008-07-27</td>\n",
       "      <td>14.0</td>\n",
       "      <td>the first time i made this cake i grated a mil...</td>\n",
       "      <td>NaN</td>\n",
       "      <td>[the first time i made this cake i grated a mi...</td>\n",
       "      <td>23</td>\n",
       "    </tr>\n",
       "  </tbody>\n",
       "</table>\n",
       "</div>"
      ],
      "text/plain": [
       "                                                    name      id  minutes   \n",
       "18408       my favorite buttercream icing for decorating  334113       30  \\\n",
       "481    alligator claws  avocado fritters  with chipot...  287008       45   \n",
       "22566                          rich barley mushroom soup  328708       60   \n",
       "6779                                       chocolate tea  205348        6   \n",
       "16296  little bunny foo foo cake  carrot cake  with c...  316000       68   \n",
       "\n",
       "       contributor_id   submitted  n_steps   \n",
       "18408          681465  2008-10-30     12.0  \\\n",
       "481            765354  2008-02-19      NaN   \n",
       "22566          221776  2008-10-03      NaN   \n",
       "6779           428824  2007-01-14      NaN   \n",
       "16296          689540  2008-07-27     14.0   \n",
       "\n",
       "                                             description  n_ingredients   \n",
       "18408  this wonderful icing is used for icing cakes a...            NaN  \\\n",
       "481    a translucent golden-brown crust allows the gr...            9.0   \n",
       "22566  this is one of the best soups i've ever made a...           10.0   \n",
       "6779   i wrote this because there are an astounding l...            NaN   \n",
       "16296  the first time i made this cake i grated a mil...            NaN   \n",
       "\n",
       "                                               sentences  sentence_count  \n",
       "18408  [this wonderful icing is used for icing cakes ...              76  \n",
       "481    [a translucent golden-brown crust allows the g...              27  \n",
       "22566  [this is one of the best soups i've ever made ...              24  \n",
       "6779   [i wrote this because there are an astounding ...              23  \n",
       "16296  [the first time i made this cake i grated a mi...              23  "
      ]
     },
     "execution_count": 9,
     "metadata": {},
     "output_type": "execute_result"
    }
   ],
   "source": [
    "import pandas as pd\n",
    "import nltk\n",
    "from nltk.tokenize import sent_tokenize\n",
    "\n",
    "# Загрузка набора данных\n",
    "recipes = pd.read_csv('data/recipes_sample.csv')\n",
    "\n",
    "# Импорт ресурсов для токенизации на русском языке\n",
    "nltk.download('punkt')\n",
    "\n",
    "# Функция для токенизации описания\n",
    "def tokenize_description(description):\n",
    "    if isinstance(description, str):\n",
    "        return sent_tokenize(description)\n",
    "    else:\n",
    "        return []\n",
    "\n",
    "# Разбиение описаний на предложения\n",
    "recipes['sentences'] = recipes['description'].apply(tokenize_description)\n",
    "\n",
    "# Подсчет количества предложений в каждом рецепте\n",
    "recipes['sentence_count'] = recipes['sentences'].apply(len)\n",
    "\n",
    "# Сортировка рецептов по количеству предложений\n",
    "sorted_recipes = recipes.sort_values('sentence_count', ascending=False)\n",
    "\n",
    "# Получение 5 рецептов с самыми длинными описаниями\n",
    "top_5_recipes = sorted_recipes.head(5)\n",
    "\n",
    "# Вывод соответствующих строк из фрейма данных\n",
    "top_5_recipes"
   ]
  },
  {
   "cell_type": "markdown",
   "metadata": {},
   "source": [
    "8\\. Напишите функцию, которая для заданного предложения выводит информацию о частях речи слов, входящих в предложение, в следующем виде:\n",
    "```\n",
    "PRP   VBD   DT      NNS     CC   VBD      NNS        RB   \n",
    " I  omitted the raspberries and added strawberries instead\n",
    "``` \n",
    "Для определения части речи слова можно воспользоваться `nltk.pos_tag`.\n",
    "\n",
    "Проверьте работоспособность функции на названии рецепта с id 241106.\n",
    "\n",
    "Обратите внимание, что часть речи должна находиться ровно посередине над соотвествующим словом, а между самими словами должен быть ровно один пробел.\n"
   ]
  },
  {
   "cell_type": "code",
   "execution_count": 10,
   "metadata": {
    "tags": []
   },
   "outputs": [
    {
     "name": "stdout",
     "output_type": "stream",
     "text": [
      "JJ  NNS IN  NNS VBP JJ  CC  JJ  NNS \n",
      "eggplant steaks with chickpeas feta cheese and black olives \n"
     ]
    }
   ],
   "source": [
    "import nltk\n",
    "\n",
    "# Загрузка набора данных\n",
    "recipes = pd.read_csv('data/recipes_sample.csv')\n",
    "\n",
    "def print_pos_tags(sentence):\n",
    "    words = nltk.word_tokenize(sentence)\n",
    "    pos_tags = nltk.pos_tag(words)\n",
    "    \n",
    "    # Определение максимальной длины частей речи для выравнивания\n",
    "    max_length = max(len(tag) for _, tag in pos_tags)\n",
    "    \n",
    "    # Вывод слов и их частей речи с выравниванием\n",
    "    for word, tag in pos_tags:\n",
    "        print(f\"{tag:{max_length}}\", end=\" \")\n",
    "    print()\n",
    "    \n",
    "    for word, _ in pos_tags:\n",
    "        print(f\"{word:{max_length}}\", end=\" \")\n",
    "    print()\n",
    "    \n",
    "recipe_title = recipes.loc[recipes['id'] == 241106, 'name'].values[0]\n",
    "print_pos_tags(recipe_title)"
   ]
  }
 ],
 "metadata": {
  "kernelspec": {
   "display_name": "Python 3 (ipykernel)",
   "language": "python",
   "name": "python3"
  },
  "language_info": {
   "codemirror_mode": {
    "name": "ipython",
    "version": 3
   },
   "file_extension": ".py",
   "mimetype": "text/x-python",
   "name": "python",
   "nbconvert_exporter": "python",
   "pygments_lexer": "ipython3",
   "version": "3.9.13"
  }
 },
 "nbformat": 4,
 "nbformat_minor": 4
}

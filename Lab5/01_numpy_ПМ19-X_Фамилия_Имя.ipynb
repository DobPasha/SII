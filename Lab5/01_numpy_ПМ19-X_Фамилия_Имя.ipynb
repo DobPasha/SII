{
 "cells": [
  {
   "cell_type": "markdown",
   "metadata": {},
   "source": [
    "# Numpy"
   ]
  },
  {
   "cell_type": "markdown",
   "metadata": {},
   "source": [
    "Материалы:\n",
    "* Макрушин С.В. \"Лекция 1: Библиотека Numpy\"\n",
    "* https://numpy.org/doc/stable/user/index.html\n",
    "* https://numpy.org/doc/stable/reference/index.html"
   ]
  },
  {
   "cell_type": "markdown",
   "metadata": {},
   "source": [
    "## Задачи для совместного разбора"
   ]
  },
  {
   "cell_type": "markdown",
   "metadata": {},
   "source": [
    "1. Сгенерировать двухмерный массив `arr` размерности (4, 7), состоящий из случайных действительных чисел, равномерно распределенных в диапазоне от 0 до 20. Нормализовать значения массива с помощью преобразования вида  $𝑎𝑥+𝑏$  так, что после нормализации максимальный элемент масcива будет равен 1.0, минимальный 0.0"
   ]
  },
  {
   "cell_type": "code",
   "execution_count": null,
   "metadata": {},
   "outputs": [],
   "source": []
  },
  {
   "cell_type": "markdown",
   "metadata": {},
   "source": [
    "2. Создать матрицу 8 на 10 из случайных целых (используя модуль `numpy.random`) чисел из диапозона от 0 до 10 и найти в ней строку (ее индекс и вывести саму строку), в которой сумма значений минимальна."
   ]
  },
  {
   "cell_type": "markdown",
   "metadata": {},
   "source": [
    "3. Найти евклидово расстояние между двумя одномерными векторами одинаковой размерности."
   ]
  },
  {
   "cell_type": "markdown",
   "metadata": {},
   "source": [
    "4. Решить матричное уравнение `A*X*B=-C` - найти матрицу `X`. Где `A = [[-1, 2, 4], [-3, 1, 2], [-3, 0, 1]]`, `B=[[3, -1], [2, 1]]`, `C=[[7, 21], [11, 8], [8, 4]]`."
   ]
  },
  {
   "cell_type": "markdown",
   "metadata": {},
   "source": [
    "## Лабораторная работа №1"
   ]
  },
  {
   "cell_type": "markdown",
   "metadata": {},
   "source": [
    "Замечание: при решении данных задач не подразумевается использования циклов или генераторов Python, если в задании не сказано обратного. Решение должно опираться на использования функционала библиотеки `numpy`."
   ]
  },
  {
   "cell_type": "markdown",
   "metadata": {},
   "source": [
    "1. Файл `minutes_n_ingredients.csv` содержит информацию об идентификаторе рецепта, времени его выполнения в минутах и количестве необходимых ингредиентов. Считайте данные из этого файла в виде массива `numpy` типа `int32`, используя `np.loadtxt`. Выведите на экран первые 5 строк массива."
   ]
  },
  {
   "cell_type": "code",
   "execution_count": 2,
   "metadata": {
    "tags": []
   },
   "outputs": [
    {
     "name": "stdout",
     "output_type": "stream",
     "text": [
      "[[127244     60     16]\n",
      " [ 23891     25      7]\n",
      " [ 94746     10      6]\n",
      " [ 67660      5      6]\n",
      " [157911     60     14]]\n"
     ]
    }
   ],
   "source": [
    "import numpy as np\n",
    "\n",
    "data = np.loadtxt('data/minutes_n_ingredients.csv', delimiter=',', dtype=np.int32, skiprows=1)\n",
    "\n",
    "print(data[:5, :])"
   ]
  },
  {
   "cell_type": "markdown",
   "metadata": {},
   "source": [
    "2. Вычислите среднее значение, минимум, максимум и медиану по каждому из столбцов, кроме первого."
   ]
  },
  {
   "cell_type": "code",
   "execution_count": 3,
   "metadata": {
    "tags": []
   },
   "outputs": [
    {
     "name": "stdout",
     "output_type": "stream",
     "text": [
      "Среднее значение по столбцам (кроме первого): [2.16010017e+04 9.05528000e+00]\n",
      "Минимум по столбцам (кроме первого): [0 1]\n",
      "Максимум по столбцам (кроме первого): [2147483647         39]\n",
      "Медиана по столбцам (кроме первого): [40.  9.]\n"
     ]
    }
   ],
   "source": [
    "# вычисляем статистики для каждого столбца, кроме первого и выводим результаты\n",
    "print(\"Среднее значение по столбцам (кроме первого):\", np.mean(data[:, 1:], axis=0))\n",
    "print(\"Минимум по столбцам (кроме первого):\", np.min(data[:, 1:], axis=0))\n",
    "print(\"Максимум по столбцам (кроме первого):\", np.max(data[:, 1:], axis=0))\n",
    "print(\"Медиана по столбцам (кроме первого):\", np.median(data[:, 1:], axis=0))"
   ]
  },
  {
   "cell_type": "markdown",
   "metadata": {},
   "source": [
    "3. Ограничьте сверху значения продолжительности выполнения рецепта значением квантиля $q_{0.75}$. "
   ]
  },
  {
   "cell_type": "code",
   "execution_count": 4,
   "metadata": {
    "tags": []
   },
   "outputs": [
    {
     "name": "stdout",
     "output_type": "stream",
     "text": [
      "65.0\n",
      "[60 25 10 ... 65  5 65]\n"
     ]
    }
   ],
   "source": [
    "# ограничение сверху по квантилю 0.75 по столбцу 1 (минуты)\n",
    "max_duration = np.quantile(data[:, 1], 0.75)\n",
    "data[:, 1] = np.minimum(data[:, 1], max_duration)\n",
    "\n",
    "print(max_duration)\n",
    "print(data[:, 1])"
   ]
  },
  {
   "cell_type": "markdown",
   "metadata": {},
   "source": [
    "4. Посчитайте, для скольких рецептов указана продолжительность, равная нулю. Замените для таких строк значение в данном столбце на 1."
   ]
  },
  {
   "cell_type": "code",
   "execution_count": 5,
   "metadata": {
    "tags": []
   },
   "outputs": [
    {
     "name": "stdout",
     "output_type": "stream",
     "text": [
      "Количество рецептов с продолжительностью выполнения 0: 479\n",
      "Количество рецептов с продолжительностью выполнения 0: 0\n"
     ]
    }
   ],
   "source": [
    "# подсчитываем количество рецептов, где продолжительность выполнения равна 0\n",
    "count = np.count_nonzero(data[:, 1] == 0)\n",
    "print(f\"Количество рецептов с продолжительностью выполнения 0: {count}\")\n",
    "\n",
    "# заменяем значения 0 на 1 в первом столбце (столбец продолжительности выполнения рецепта)\n",
    "data[:, 1][data[:, 1] == 0] = 1\n",
    "\n",
    "#проверим что нули заменились на единицы, ожидаем count=0\n",
    "count = np.count_nonzero(data[:, 1] == 0)\n",
    "print(f\"Количество рецептов с продолжительностью выполнения 0: {count}\")"
   ]
  },
  {
   "cell_type": "markdown",
   "metadata": {},
   "source": [
    "5. Посчитайте, сколько уникальных рецептов находится в датасете."
   ]
  },
  {
   "cell_type": "code",
   "execution_count": 6,
   "metadata": {
    "tags": []
   },
   "outputs": [
    {
     "name": "stdout",
     "output_type": "stream",
     "text": [
      "100000\n"
     ]
    }
   ],
   "source": [
    "unique_recipes = np.unique(data[:, 0])\n",
    "print(len(unique_recipes))"
   ]
  },
  {
   "cell_type": "markdown",
   "metadata": {},
   "source": [
    "6. Сколько и каких различных значений кол-ва ингредиентов присутвует в рецептах из датасета?"
   ]
  },
  {
   "cell_type": "code",
   "execution_count": 7,
   "metadata": {
    "tags": []
   },
   "outputs": [
    {
     "name": "stdout",
     "output_type": "stream",
     "text": [
      "Количество уникальных значений: 37\n",
      "Уникальные значения: [ 1  2  3  4  5  6  7  8  9 10 11 12 13 14 15 16 17 18 19 20 21 22 23 24\n",
      " 25 26 27 28 29 30 31 32 33 34 35 37 39]\n"
     ]
    }
   ],
   "source": [
    "# получаем уникальные значения количества ингредиентов\n",
    "unique_counts = np.unique(data[:, 2])\n",
    "num_unique = len(unique_counts)\n",
    "\n",
    "# выводим результаты\n",
    "print(f\"Количество уникальных значений: {num_unique}\")\n",
    "print(f\"Уникальные значения: {unique_counts}\")"
   ]
  },
  {
   "cell_type": "markdown",
   "metadata": {},
   "source": [
    "7. Создайте версию массива, содержащую информацию только о рецептах, состоящих не более чем из 5 ингредиентов."
   ]
  },
  {
   "cell_type": "code",
   "execution_count": 8,
   "metadata": {
    "tags": []
   },
   "outputs": [
    {
     "name": "stdout",
     "output_type": "stream",
     "text": [
      "[[ 67660.      5.      6.]\n",
      " [204134.      5.      3.]\n",
      " [ 66842.      2.      4.]\n",
      " ...\n",
      " [420725.      5.      3.]\n",
      " [  4747.      0.      9.]\n",
      " [370915.      5.      4.]]\n"
     ]
    }
   ],
   "source": [
    "# Задаем настройки вывода\n",
    "np.set_printoptions(suppress=True)  # Отключаем научную нотацию, нкжно, чтобы избежать вывода экспоненциальных чисел\n",
    "data = np.genfromtxt('data/minutes_n_ingredients.csv', delimiter=',', skip_header=1, usecols=(0, 1, 2))\n",
    "\n",
    "# Создание новой версии массива с информацией только о рецептах, состоящих не более чем из 5 ингредиентов\n",
    "new_data = data[data[:, 1] <= 5]\n",
    "\n",
    "# Вывод размерности нового массива\n",
    "print(new_data)"
   ]
  },
  {
   "cell_type": "markdown",
   "metadata": {},
   "source": [
    "8. Для каждого рецепта посчитайте, сколько в среднем ингредиентов приходится на одну минуту рецепта. Найдите максимальное значение этой величины для всего датасета"
   ]
  },
  {
   "cell_type": "code",
   "execution_count": 9,
   "metadata": {
    "tags": []
   },
   "outputs": [
    {
     "name": "stdout",
     "output_type": "stream",
     "text": [
      "Mean: 0.33976172034613894\n",
      "Maximum: 23.0\n",
      "2147483647.0\n",
      "39.0\n"
     ]
    }
   ],
   "source": [
    "mask = data[:, 1] != 0 #Создаем массив булевых чисел, проверям на наличие значений \"0\" ----- Вообще этот код не нужен, с проверкой на нули, т.к. мы выше эти нули поубирали.\n",
    "ingredients_per_minute = np.zeros_like(data[:, 2]) #Создаем нулевой массив\n",
    "ingredients_per_minute[mask] = data[:, 2][mask] / data[:, 1][mask] # Производит вычисление, но только для тех позиций где передаем mask=true\n",
    "\n",
    "print(\"Mean: {}\".format(np.mean(ingredients_per_minute[mask])))\n",
    "print(\"Maximum: {}\".format(np.max(ingredients_per_minute[mask])))\n",
    "\n",
    "print(np.max(data[:, 1]))\n",
    "print(np.max(data[:, 2]))"
   ]
  },
  {
   "cell_type": "markdown",
   "metadata": {},
   "source": [
    "9. Вычислите среднее количество ингредиентов для топ-100 рецептов с наибольшей продолжительностью"
   ]
  },
  {
   "cell_type": "code",
   "execution_count": 10,
   "metadata": {
    "tags": []
   },
   "outputs": [
    {
     "name": "stdout",
     "output_type": "stream",
     "text": [
      "Среднее количество ингредиентов для топ-100 рецептов: 6.61\n"
     ]
    }
   ],
   "source": [
    "# Отсортировать данные по убыванию времени приготовления и выбрать первые 100 строк\n",
    "sorted_data = data[np.argsort(data[:, 1])[::-1]][:100]\n",
    "\n",
    "# Вычислить среднее значение количества ингредиентов для выбранных рецептов\n",
    "mean_ingredients = np.mean(sorted_data[:, 2])\n",
    "\n",
    "print(f\"Среднее количество ингредиентов для топ-100 рецептов: {mean_ingredients:.2f}\")"
   ]
  },
  {
   "cell_type": "markdown",
   "metadata": {},
   "source": [
    "10. Выберите случайным образом и выведите информацию о 10 различных рецептах"
   ]
  },
  {
   "cell_type": "code",
   "execution_count": 11,
   "metadata": {
    "tags": []
   },
   "outputs": [
    {
     "name": "stdout",
     "output_type": "stream",
     "text": [
      "[30438 97113 74298 36329 19981 58406 90729 46436 98675 41858]\n"
     ]
    }
   ],
   "source": [
    "# Получаем количество рецептов в массиве данных\n",
    "num_recipes = data.shape[0]\n",
    "\n",
    "# Выбираем случайные индексы 10 различных рецептов\n",
    "random_indices = np.random.choice(num_recipes, size=10, replace=False)\n",
    "\n",
    "print(random_indices)"
   ]
  },
  {
   "cell_type": "markdown",
   "metadata": {},
   "source": [
    "11. Выведите процент рецептов, кол-во ингредиентов в которых меньше среднего."
   ]
  },
  {
   "cell_type": "code",
   "execution_count": 14,
   "metadata": {
    "tags": []
   },
   "outputs": [
    {
     "name": "stdout",
     "output_type": "stream",
     "text": [
      "Процент рецептов, кол-во ингредиентов в которых меньше среднего: 58.80%\n"
     ]
    }
   ],
   "source": [
    "mean_n_ingredients = np.mean(data[:, 2])\n",
    "\n",
    "percent = np.mean(data[:, 2] < mean_n_ingredients) * 100\n",
    "\n",
    "print(\"Процент рецептов, кол-во ингредиентов в которых меньше среднего: {:.2f}%\".format(percent))"
   ]
  },
  {
   "cell_type": "markdown",
   "metadata": {},
   "source": [
    "12. Назовем \"простым\" такой рецепт, длительность выполнения которого не больше 20 минут и кол-во ингредиентов в котором не больше 5. Создайте версию датасета с дополнительным столбцом, значениями которого являются 1, если рецепт простой, и 0 в противном случае."
   ]
  },
  {
   "cell_type": "code",
   "execution_count": 15,
   "metadata": {
    "tags": []
   },
   "outputs": [],
   "source": [
    "# создание дополнительного столбца с метками \"простой рецепт\"\n",
    "simple = np.logical_and(data[:, 1] <= 20, data[:, 2] <= 5).astype(np.int32)\n",
    "data_with_simple = np.column_stack((data, simple))\n",
    "\n",
    "# сохранение массива в файл\n",
    "np.savetxt('minutes_n_ingredients_with_simple.csv', data_with_simple, delimiter=',', fmt='%d')"
   ]
  },
  {
   "cell_type": "markdown",
   "metadata": {},
   "source": [
    "13. Выведите процент \"простых\" рецептов в датасете"
   ]
  },
  {
   "cell_type": "code",
   "execution_count": 16,
   "metadata": {
    "tags": []
   },
   "outputs": [
    {
     "name": "stdout",
     "output_type": "stream",
     "text": [
      "Процент \"простых\" рецептов: 9.55%\n"
     ]
    }
   ],
   "source": [
    "# создание дополнительного столбца с метками \"простой рецепт\"\n",
    "simple = np.logical_and(data[:, 1] <= 20, data[:, 2] <= 5).astype(np.int32)\n",
    "data_with_simple = np.column_stack((data, simple))\n",
    "\n",
    "# вычисление процента \"простых\" рецептов\n",
    "percent_simple = 100 * np.mean(simple)\n",
    "\n",
    "print(f'Процент \"простых\" рецептов: {percent_simple:.2f}%')"
   ]
  },
  {
   "cell_type": "markdown",
   "metadata": {},
   "source": [
    "14. Разделим рецепты на группы по следующему правилу. Назовем рецепты короткими, если их продолжительность составляет менее 10 минут; стандартными, если их продолжительность составляет более 10, но менее 20 минут; и длинными, если их продолжительность составляет не менее 20 минут. Создайте трехмерный массив, где нулевая ось отвечает за номер группы (короткий, стандартный или длинный рецепт), первая ось - за сам рецепт и вторая ось - за характеристики рецепта. Выберите максимальное количество рецептов из каждой группы таким образом, чтобы было возможно сформировать трехмерный массив. Выведите форму полученного массива."
   ]
  },
  {
   "cell_type": "code",
   "execution_count": 17,
   "metadata": {
    "tags": []
   },
   "outputs": [
    {
     "name": "stdout",
     "output_type": "stream",
     "text": [
      "Форма полученного массива: (3, 300, 3)\n"
     ]
    }
   ],
   "source": [
    "# разделение рецептов на группы\n",
    "short = data[data[:, 1] < 10]\n",
    "standard = data[(data[:, 1] >= 10) & (data[:, 1] < 20)]\n",
    "long = data[data[:, 1] >= 20]\n",
    "\n",
    "# выбор максимального количества рецептов из каждой группы\n",
    "max_short = min(short.shape[0], 100)\n",
    "max_standard = min(standard.shape[0], 100)\n",
    "max_long = min(long.shape[0], 100)\n",
    "\n",
    "# создание трехмерного массива\n",
    "result = np.zeros((3, max_short + max_standard + max_long, 3), dtype=np.int32)\n",
    "\n",
    "result[0, :max_short, :] = short[:max_short, :]\n",
    "result[1, :max_standard, :] = standard[:max_standard, :]\n",
    "result[2, :max_long, :] = long[:max_long, :]\n",
    "\n",
    "print(f'Форма полученного массива: {result.shape}')"
   ]
  }
 ],
 "metadata": {
  "kernelspec": {
   "display_name": "Python 3 (ipykernel)",
   "language": "python",
   "name": "python3"
  },
  "language_info": {
   "codemirror_mode": {
    "name": "ipython",
    "version": 3
   },
   "file_extension": ".py",
   "mimetype": "text/x-python",
   "name": "python",
   "nbconvert_exporter": "python",
   "pygments_lexer": "ipython3",
   "version": "3.9.13"
  }
 },
 "nbformat": 4,
 "nbformat_minor": 4
}
